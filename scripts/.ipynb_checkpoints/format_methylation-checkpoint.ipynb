{
 "cells": [
  {
   "cell_type": "code",
   "execution_count": null,
   "id": "7cc7efc3",
   "metadata": {},
   "outputs": [],
   "source": [
    "import pandas as pd\n",
    "# import os\n",
    "# import os.path\n",
    "# from os import path\n",
    "\n",
    "df = pd.read_csv(open(snakemake.input[0]), sep='\\t', names=[\"chr\", \"start\", \"end\", \"meth_val\", \"coverage\"])\n",
    "df['meth_count'] = round(df[\"coverage\"]*df[\"meth_val\"])\n",
    "df['meth_count'] = df[\"meth_count\"].astype(int)\n",
    "df['unmeth_count'] = df[\"coverage\"] - df['meth_count']\n",
    "data = df[[\"chr\", \"start\", \"end\", \"meth_count\", \"unmeth_count\"]].copy()\n",
    "\n",
    "data.to_csv(snakemake.output[0], sep=\"\\t\", header=False, index=False)\n",
    "    \n"
   ]
  }
 ],
 "metadata": {
  "kernelspec": {
   "display_name": "Python 3",
   "language": "python",
   "name": "python3"
  },
  "language_info": {
   "codemirror_mode": {
    "name": "ipython",
    "version": 3
   },
   "file_extension": ".py",
   "mimetype": "text/x-python",
   "name": "python",
   "nbconvert_exporter": "python",
   "pygments_lexer": "ipython3",
   "version": "3.9.7"
  }
 },
 "nbformat": 4,
 "nbformat_minor": 5
}
